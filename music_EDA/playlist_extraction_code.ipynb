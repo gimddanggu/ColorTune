{
 "cells": [
  {
   "cell_type": "code",
   "execution_count": 1,
   "id": "bb00195f-bdd4-4494-9be2-68cda70774de",
   "metadata": {},
   "outputs": [
    {
     "name": "stdout",
     "output_type": "stream",
     "text": [
      "Collecting spotipy\n",
      "  Downloading spotipy-2.24.0-py3-none-any.whl.metadata (4.9 kB)\n",
      "Collecting redis>=3.5.3 (from spotipy)\n",
      "  Downloading redis-5.0.8-py3-none-any.whl.metadata (9.2 kB)\n",
      "Requirement already satisfied: requests>=2.25.0 in c:\\users\\trump\\anaconda3\\lib\\site-packages (from spotipy) (2.31.0)\n",
      "Requirement already satisfied: urllib3>=1.26.0 in c:\\users\\trump\\anaconda3\\lib\\site-packages (from spotipy) (2.1.0)\n",
      "Requirement already satisfied: charset-normalizer<4,>=2 in c:\\users\\trump\\anaconda3\\lib\\site-packages (from requests>=2.25.0->spotipy) (2.0.4)\n",
      "Requirement already satisfied: idna<4,>=2.5 in c:\\users\\trump\\anaconda3\\lib\\site-packages (from requests>=2.25.0->spotipy) (3.7)\n",
      "Requirement already satisfied: certifi>=2017.4.17 in c:\\users\\trump\\anaconda3\\lib\\site-packages (from requests>=2.25.0->spotipy) (2024.2.2)\n",
      "Downloading spotipy-2.24.0-py3-none-any.whl (30 kB)\n",
      "Downloading redis-5.0.8-py3-none-any.whl (255 kB)\n",
      "   ---------------------------------------- 0.0/255.6 kB ? eta -:--:--\n",
      "   -------------------------------------- - 245.8/255.6 kB 7.6 MB/s eta 0:00:01\n",
      "   ---------------------------------------- 255.6/255.6 kB 5.2 MB/s eta 0:00:00\n",
      "Installing collected packages: redis, spotipy\n",
      "Successfully installed redis-5.0.8 spotipy-2.24.0\n",
      "Note: you may need to restart the kernel to use updated packages.\n"
     ]
    }
   ],
   "source": [
    "pip install spotipy"
   ]
  },
  {
   "cell_type": "code",
   "execution_count": null,
   "id": "cb423f86-a21e-422f-8531-aa176908784f",
   "metadata": {},
   "outputs": [],
   "source": [
    "import spotipy\n",
    "from spotipy.oauth2 import SpotifyClientCredentials\n",
    "import pandas as pd\n",
    "\n",
    "# Spotify API 인증 정보 설정 - Spotify wep api 로 접속 후 개인 토큰 키 입력\n",
    "client_id = ''\n",
    "client_secret = ''\n",
    "\n",
    "auth_manager = SpotifyClientCredentials(client_id=client_id, client_secret=client_secret)\n",
    "sp = spotipy.Spotify(auth_manager=auth_manager)\n"
   ]
  },
  {
   "cell_type": "code",
   "execution_count": 56,
   "id": "46a823a0-e460-4de1-86ac-cd58f99ea660",
   "metadata": {},
   "outputs": [],
   "source": [
    "# 플레이리스트 검색 함수\n",
    "def search_playlists(query, limit=10):\n",
    "    result = sp.search(q=query, type='playlist', limit=limit)\n",
    "    playlists = result['playlists']['items']\n",
    "    return playlists"
   ]
  },
  {
   "cell_type": "code",
   "execution_count": 57,
   "id": "1d326d10-3cf6-497b-a804-a58d11c81c25",
   "metadata": {},
   "outputs": [
    {
     "data": {
      "text/plain": [
       "'\\nif playlists:\\n    playlist_id = playlists[0][\\'id\\']\\n    tracks = get_playlist_tracks(playlist_id)\\n\\n    # 각 트랙의 이름과 아티스트 출력\\n    for item in tracks:\\n        track = item[\\'track\\']\\n        print(f\"{track[\\'name\\']} by {track[\\'artists\\'][0][\\'name\\']}\")\\n'"
      ]
     },
     "execution_count": 57,
     "metadata": {},
     "output_type": "execute_result"
    }
   ],
   "source": [
    "# 플레이스트의 곡 가져오는 함수\n",
    "def get_playlist_tracks(playlist_id):\n",
    "    tracks = []\n",
    "    results = sp.playlist_tracks(playlist_id)\n",
    "    tracks.extend(results['items'])\n",
    "    \n",
    "    while results['next']:\n",
    "        results = sp.next(results)\n",
    "        tracks.extend(results['items'])\n",
    "    \n",
    "    return tracks\n",
    "\n",
    "# 테스트코드\n",
    "# 첫 번째 플레이리스트의 트랙 정보 가져오기\n",
    "'''\n",
    "if playlists:\n",
    "    playlist_id = playlists[0]['id']\n",
    "    tracks = get_playlist_tracks(playlist_id)\n",
    "\n",
    "    # 각 트랙의 이름과 아티스트 출력\n",
    "    for item in tracks:\n",
    "        track = item['track']\n",
    "        print(f\"{track['name']} by {track['artists'][0]['name']}\")\n",
    "'''"
   ]
  },
  {
   "cell_type": "code",
   "execution_count": 58,
   "id": "7af3b0d7-f656-40cc-a8f3-25927df46857",
   "metadata": {},
   "outputs": [
    {
     "data": {
      "text/plain": [
       "\"\\n# 트랙 ID 추출 및 오디오 특성 가져오기\\ntrack_ids = [track['track']['id'] for track in tracks]\\naudio_features = get_audio_features(track_ids)\\n\\n# 첫 번째 트랙의 오디오 특성 출력\\nprint(audio_features[0])\\n\""
      ]
     },
     "execution_count": 58,
     "metadata": {},
     "output_type": "execute_result"
    }
   ],
   "source": [
    "# 곡의 audio_features 가져오는 함수\n",
    "def get_all_audio_features(track_ids):\n",
    "    audio_features = []\n",
    "    \n",
    "    # 최대 100개의 트랙 ID를 한 번에 요청할 수 있으므로 나누어서 요청\n",
    "    for i in range(0, len(track_ids), 100):\n",
    "        batch = track_ids[i:i+100]\n",
    "        features = sp.audio_features(batch)\n",
    "        audio_features.extend(features)\n",
    "    \n",
    "    return audio_features\n",
    "\n",
    "# 테스트 코드\n",
    "'''\n",
    "# 트랙 ID 추출 및 오디오 특성 가져오기\n",
    "track_ids = [track['track']['id'] for track in tracks]\n",
    "audio_features = get_audio_features(track_ids)\n",
    "\n",
    "# 첫 번째 트랙의 오디오 특성 출력\n",
    "print(audio_features[0])\n",
    "'''"
   ]
  },
  {
   "cell_type": "code",
   "execution_count": 59,
   "id": "0830655f-4d99-41d3-b4f2-5b57560b2737",
   "metadata": {},
   "outputs": [],
   "source": [
    "# 트랙 정보 가져오는 함수\n",
    "def get_track_data(tracks, audio_features):\n",
    "    track_data = []\n",
    "    \n",
    "    # 오디오 특성을 track ID로 맵핑\n",
    "    audio_features_dict = {af['id']: af for af in audio_features if af is not None}\n",
    "    \n",
    "    for item in tracks:\n",
    "        track = item['track']\n",
    "        track_id = track['id']\n",
    "        \n",
    "        # 트랙 정보 가져오기\n",
    "        track_info = {\n",
    "            #'Track ID': track_id,\n",
    "            'Track Name': track['name'],\n",
    "            'Album Name': track['album']['name'],\n",
    "            'Artist(s)': ', '.join([artist['name'] for artist in track['artists']]),\n",
    "            'Release Date': track['album']['release_date'],\n",
    "            'Popularity': track['popularity'],\n",
    "            'Duration (ms)': track['duration_ms'],\n",
    "            'Explicit': track['explicit'],\n",
    "            'Track URL': track['external_urls']['spotify'],\n",
    "        }\n",
    "        \n",
    "        # 해당 트랙의 오디오 특성을 가져오기\n",
    "        audio_features = audio_features_dict.get(track_id)\n",
    "        if audio_features:\n",
    "            track_info.update({\n",
    "                'Danceability': audio_features['danceability'],\n",
    "                'Energy': audio_features['energy'],\n",
    "                'Key': audio_features['key'],\n",
    "                'Loudness': audio_features['loudness'],\n",
    "                'Mode': audio_features['mode'],\n",
    "                'Speechiness': audio_features['speechiness'],\n",
    "                'Acousticness': audio_features['acousticness'],\n",
    "                'Instrumentalness': audio_features['instrumentalness'],\n",
    "                'Liveness': audio_features['liveness'],\n",
    "                'Valence': audio_features['valence'],\n",
    "                'Tempo': audio_features['tempo'],\n",
    "                'Duration (ms)': audio_features['duration_ms'],\n",
    "                'Time Signature': audio_features['time_signature'],\n",
    "                #'Track URI': audio_features['uri'],\n",
    "                #'Track Href': audio_features['track_href'],\n",
    "                #'Analysis URL': audio_features['analysis_url']\n",
    "            })\n",
    "        \n",
    "        track_data.append(track_info)\n",
    "    \n",
    "    return track_data"
   ]
  },
  {
   "cell_type": "code",
   "execution_count": 60,
   "id": "04ca7f39-5792-4dac-a3e1-ab0c4b940e3f",
   "metadata": {},
   "outputs": [],
   "source": [
    "# csv 파일로 저장하는 함수\n",
    "def save_to_csv(data, filename):\n",
    "    df = pd.DataFrame(data)\n",
    "    df.to_csv(filename, index=False)"
   ]
  },
  {
   "cell_type": "markdown",
   "id": "9e21c198-c1f0-4772-aa2b-9674587231b8",
   "metadata": {},
   "source": [
    "### 한개의 검색어로만 파일 생성"
   ]
  },
  {
   "cell_type": "code",
   "execution_count": 61,
   "id": "c3bfdf15-f8b5-46b1-bf56-0975d23417dc",
   "metadata": {},
   "outputs": [
    {
     "name": "stderr",
     "output_type": "stream",
     "text": [
      "Couldn't read cache at: .cache\n",
      "Couldn't write token to cache at: .cache\n",
      "Couldn't read cache at: .cache\n",
      "Couldn't write token to cache at: .cache\n",
      "Couldn't read cache at: .cache\n",
      "Couldn't write token to cache at: .cache\n",
      "Couldn't read cache at: .cache\n",
      "Couldn't write token to cache at: .cache\n",
      "Couldn't read cache at: .cache\n",
      "Couldn't write token to cache at: .cache\n",
      "Couldn't read cache at: .cache\n",
      "Couldn't write token to cache at: .cache\n",
      "Couldn't read cache at: .cache\n",
      "Couldn't write token to cache at: .cache\n"
     ]
    },
    {
     "name": "stdout",
     "output_type": "stream",
     "text": [
      "Track data saved to 'full_audio_features_and_track_info_2024_test.csv'\n"
     ]
    }
   ],
   "source": [
    "# '2024년 인기차트' 키워드로 플레이리스트 검색\n",
    "playlists = search_playlists('2024년 인기차트', limit=3)\n",
    "track_list = []\n",
    "\n",
    "for playlist in playlists:\n",
    "    playlist_id = playlist['id']\n",
    "    tracks = get_playlist_tracks(playlist_id)\n",
    "    \n",
    "    # 모든 트랙 ID 수집\n",
    "    track_ids = [track['track']['id'] for track in tracks]\n",
    "    \n",
    "    # 한 번에 모든 오디오 특성을 수집\n",
    "    audio_features = get_all_audio_features(track_ids)\n",
    "    \n",
    "    # 트랙 정보와 오디오 특성을 결합\n",
    "    track_data = collect_full_track_data(tracks, audio_features)\n",
    "    \n",
    "    # track_data 리스트를 track_list에 확장하여 추가 (중첩 방지)\n",
    "    track_list.extend(track_data)\n",
    "\n",
    "# CSV 파일로 저장\n",
    "save_to_csv(track_list, 'full_audio_features_and_track_info_2024_test.csv')\n",
    "print(\"Track data saved to 'full_audio_features_and_track_info_2024_test.csv'\")"
   ]
  },
  {
   "cell_type": "markdown",
   "id": "02d1cab4-2f30-447c-87da-3ba9ec05d9f0",
   "metadata": {},
   "source": [
    "### 각 키워드 다른 파일로 저장"
   ]
  },
  {
   "cell_type": "code",
   "execution_count": 62,
   "id": "7240f001-942e-4562-ba66-bb5dc8d4a7da",
   "metadata": {},
   "outputs": [
    {
     "name": "stderr",
     "output_type": "stream",
     "text": [
      "Couldn't read cache at: .cache\n",
      "Couldn't write token to cache at: .cache\n",
      "Couldn't read cache at: .cache\n",
      "Couldn't write token to cache at: .cache\n",
      "Couldn't read cache at: .cache\n",
      "Couldn't write token to cache at: .cache\n",
      "Couldn't read cache at: .cache\n",
      "Couldn't write token to cache at: .cache\n",
      "Couldn't read cache at: .cache\n",
      "Couldn't write token to cache at: .cache\n",
      "Couldn't read cache at: .cache\n",
      "Couldn't write token to cache at: .cache\n",
      "Couldn't read cache at: .cache\n",
      "Couldn't write token to cache at: .cache\n",
      "Couldn't read cache at: .cache\n",
      "Couldn't write token to cache at: .cache\n",
      "Couldn't read cache at: .cache\n"
     ]
    },
    {
     "name": "stdout",
     "output_type": "stream",
     "text": [
      "Track data for '멜론차트' saved to 'full_audio_features_and_track_info_멜론차트.csv'\n"
     ]
    },
    {
     "name": "stderr",
     "output_type": "stream",
     "text": [
      "Couldn't write token to cache at: .cache\n",
      "Couldn't read cache at: .cache\n",
      "Couldn't write token to cache at: .cache\n",
      "Couldn't read cache at: .cache\n",
      "Couldn't write token to cache at: .cache\n",
      "Couldn't read cache at: .cache\n",
      "Couldn't write token to cache at: .cache\n",
      "Couldn't read cache at: .cache\n",
      "Couldn't write token to cache at: .cache\n",
      "Couldn't read cache at: .cache\n",
      "Couldn't write token to cache at: .cache\n",
      "Couldn't read cache at: .cache\n",
      "Couldn't write token to cache at: .cache\n",
      "Couldn't read cache at: .cache\n",
      "Couldn't write token to cache at: .cache\n",
      "Couldn't read cache at: .cache\n",
      "Couldn't write token to cache at: .cache\n",
      "Couldn't read cache at: .cache\n",
      "Couldn't write token to cache at: .cache\n",
      "Couldn't read cache at: .cache\n",
      "Couldn't write token to cache at: .cache\n",
      "Couldn't read cache at: .cache\n",
      "Couldn't write token to cache at: .cache\n",
      "Couldn't read cache at: .cache\n",
      "Couldn't write token to cache at: .cache\n",
      "Couldn't read cache at: .cache\n",
      "Couldn't write token to cache at: .cache\n",
      "Couldn't read cache at: .cache\n",
      "Couldn't write token to cache at: .cache\n",
      "Couldn't read cache at: .cache\n",
      "Couldn't write token to cache at: .cache\n",
      "Couldn't read cache at: .cache\n",
      "Couldn't write token to cache at: .cache\n",
      "Couldn't read cache at: .cache\n",
      "Couldn't write token to cache at: .cache\n",
      "Couldn't read cache at: .cache\n",
      "Couldn't write token to cache at: .cache\n",
      "Couldn't read cache at: .cache\n",
      "Couldn't write token to cache at: .cache\n",
      "Couldn't read cache at: .cache\n",
      "Couldn't write token to cache at: .cache\n"
     ]
    },
    {
     "name": "stdout",
     "output_type": "stream",
     "text": [
      "Track data for '노동요' saved to 'full_audio_features_and_track_info_노동요.csv'\n"
     ]
    },
    {
     "name": "stderr",
     "output_type": "stream",
     "text": [
      "Couldn't read cache at: .cache\n",
      "Couldn't write token to cache at: .cache\n",
      "Couldn't read cache at: .cache\n",
      "Couldn't write token to cache at: .cache\n",
      "Couldn't read cache at: .cache\n",
      "Couldn't write token to cache at: .cache\n",
      "Couldn't read cache at: .cache\n",
      "Couldn't write token to cache at: .cache\n",
      "Couldn't read cache at: .cache\n",
      "Couldn't write token to cache at: .cache\n",
      "Couldn't read cache at: .cache\n",
      "Couldn't write token to cache at: .cache\n",
      "Couldn't read cache at: .cache\n",
      "Couldn't write token to cache at: .cache\n",
      "Couldn't read cache at: .cache\n",
      "Couldn't write token to cache at: .cache\n",
      "Couldn't read cache at: .cache\n",
      "Couldn't write token to cache at: .cache\n",
      "Couldn't read cache at: .cache\n",
      "Couldn't write token to cache at: .cache\n",
      "Couldn't read cache at: .cache\n",
      "Couldn't write token to cache at: .cache\n",
      "Couldn't read cache at: .cache\n"
     ]
    },
    {
     "name": "stdout",
     "output_type": "stream",
     "text": [
      "Track data for '분위기 팝송' saved to 'full_audio_features_and_track_info_분위기 팝송.csv'\n"
     ]
    },
    {
     "name": "stderr",
     "output_type": "stream",
     "text": [
      "Couldn't write token to cache at: .cache\n",
      "Couldn't read cache at: .cache\n",
      "Couldn't write token to cache at: .cache\n",
      "Couldn't read cache at: .cache\n",
      "Couldn't write token to cache at: .cache\n",
      "Couldn't read cache at: .cache\n",
      "Couldn't write token to cache at: .cache\n",
      "Couldn't read cache at: .cache\n",
      "Couldn't write token to cache at: .cache\n",
      "Couldn't read cache at: .cache\n",
      "Couldn't write token to cache at: .cache\n",
      "Couldn't read cache at: .cache\n",
      "Couldn't write token to cache at: .cache\n",
      "Couldn't read cache at: .cache\n",
      "Couldn't write token to cache at: .cache\n",
      "Couldn't read cache at: .cache\n",
      "Couldn't write token to cache at: .cache\n"
     ]
    },
    {
     "name": "stdout",
     "output_type": "stream",
     "text": [
      "Track data for '드라이브' saved to 'full_audio_features_and_track_info_드라이브.csv'\n"
     ]
    },
    {
     "name": "stderr",
     "output_type": "stream",
     "text": [
      "Couldn't read cache at: .cache\n",
      "Couldn't write token to cache at: .cache\n",
      "Couldn't read cache at: .cache\n",
      "Couldn't write token to cache at: .cache\n",
      "Couldn't read cache at: .cache\n",
      "Couldn't write token to cache at: .cache\n",
      "Couldn't read cache at: .cache\n",
      "Couldn't write token to cache at: .cache\n",
      "Couldn't read cache at: .cache\n",
      "Couldn't write token to cache at: .cache\n",
      "Couldn't read cache at: .cache\n",
      "Couldn't write token to cache at: .cache\n",
      "Couldn't read cache at: .cache\n",
      "Couldn't write token to cache at: .cache\n"
     ]
    },
    {
     "name": "stdout",
     "output_type": "stream",
     "text": [
      "Track data for '산책' saved to 'full_audio_features_and_track_info_산책.csv'\n"
     ]
    },
    {
     "name": "stderr",
     "output_type": "stream",
     "text": [
      "Couldn't read cache at: .cache\n",
      "Couldn't write token to cache at: .cache\n",
      "Couldn't read cache at: .cache\n",
      "Couldn't write token to cache at: .cache\n",
      "Couldn't read cache at: .cache\n",
      "Couldn't write token to cache at: .cache\n",
      "Couldn't read cache at: .cache\n",
      "Couldn't write token to cache at: .cache\n",
      "Couldn't read cache at: .cache\n",
      "Couldn't write token to cache at: .cache\n",
      "Couldn't read cache at: .cache\n",
      "Couldn't write token to cache at: .cache\n",
      "Couldn't read cache at: .cache\n",
      "Couldn't write token to cache at: .cache\n"
     ]
    },
    {
     "name": "stdout",
     "output_type": "stream",
     "text": [
      "Track data for '신나는' saved to 'full_audio_features_and_track_info_신나는.csv'\n"
     ]
    },
    {
     "name": "stderr",
     "output_type": "stream",
     "text": [
      "Couldn't read cache at: .cache\n",
      "Couldn't write token to cache at: .cache\n",
      "Couldn't read cache at: .cache\n",
      "Couldn't write token to cache at: .cache\n",
      "Couldn't read cache at: .cache\n",
      "Couldn't write token to cache at: .cache\n",
      "Couldn't read cache at: .cache\n",
      "Couldn't write token to cache at: .cache\n",
      "Couldn't read cache at: .cache\n",
      "Couldn't write token to cache at: .cache\n",
      "Couldn't read cache at: .cache\n",
      "Couldn't write token to cache at: .cache\n"
     ]
    },
    {
     "name": "stdout",
     "output_type": "stream",
     "text": [
      "Track data for '운동' saved to 'full_audio_features_and_track_info_운동.csv'\n"
     ]
    }
   ],
   "source": [
    "# 검색할 키워드 리스트\n",
    "search_keywords = ['멜론차트', '노동요', '분위기 팝송', '드라이브', '산책', '신나는', '운동']\n",
    "\n",
    "for keyword in search_keywords:\n",
    "    playlists = search_playlists(keyword, limit=3)\n",
    "    track_list = []\n",
    "    \n",
    "    for playlist in playlists:\n",
    "        playlist_id = playlist['id']\n",
    "        tracks = get_playlist_tracks(playlist_id)\n",
    "        \n",
    "        # 모든 트랙 ID 수집\n",
    "        track_ids = [track['track']['id'] for track in tracks]\n",
    "        \n",
    "        # 한 번에 모든 오디오 특성을 수집\n",
    "        audio_features = get_all_audio_features(track_ids)\n",
    "        \n",
    "        # 트랙 정보와 오디오 특성을 결합\n",
    "        track_data = collect_full_track_data(tracks, audio_features)\n",
    "        \n",
    "        # track_data 리스트를 track_list에 확장하여 추가 (중첩 방지)\n",
    "        track_list.extend(track_data)\n",
    "    \n",
    "    # CSV 파일로 저장 (키워드에 따라 파일명 변경) playlist_keyword_info\n",
    "    save_to_csv(track_list, f'playlist_keyword_info_{keyword}.csv')\n",
    "    print(f\"Track data for '{keyword}' saved to 'playlist_keyword_info_{keyword}.csv'\")"
   ]
  },
  {
   "cell_type": "markdown",
   "id": "5fa490b7-05a0-45e1-8377-343fb0c8e95a",
   "metadata": {},
   "source": [
    "### 키워드 한 개의 파일로 저장"
   ]
  },
  {
   "cell_type": "code",
   "execution_count": 63,
   "id": "de1efe13-9847-4492-8d1f-3ea25dc999f4",
   "metadata": {},
   "outputs": [
    {
     "name": "stderr",
     "output_type": "stream",
     "text": [
      "Couldn't read cache at: .cache\n",
      "Couldn't write token to cache at: .cache\n",
      "Couldn't read cache at: .cache\n",
      "Couldn't write token to cache at: .cache\n",
      "Couldn't read cache at: .cache\n",
      "Couldn't write token to cache at: .cache\n",
      "Couldn't read cache at: .cache\n",
      "Couldn't write token to cache at: .cache\n",
      "Couldn't read cache at: .cache\n",
      "Couldn't write token to cache at: .cache\n",
      "Couldn't read cache at: .cache\n",
      "Couldn't write token to cache at: .cache\n",
      "Couldn't read cache at: .cache\n",
      "Couldn't write token to cache at: .cache\n",
      "Couldn't read cache at: .cache\n",
      "Couldn't write token to cache at: .cache\n",
      "Couldn't read cache at: .cache\n",
      "Couldn't write token to cache at: .cache\n",
      "Couldn't read cache at: .cache\n",
      "Couldn't write token to cache at: .cache\n",
      "Couldn't read cache at: .cache\n",
      "Couldn't write token to cache at: .cache\n",
      "Couldn't read cache at: .cache\n",
      "Couldn't write token to cache at: .cache\n",
      "Couldn't read cache at: .cache\n",
      "Couldn't write token to cache at: .cache\n",
      "Couldn't read cache at: .cache\n",
      "Couldn't write token to cache at: .cache\n",
      "Couldn't read cache at: .cache\n",
      "Couldn't write token to cache at: .cache\n",
      "Couldn't read cache at: .cache\n",
      "Couldn't write token to cache at: .cache\n",
      "Couldn't read cache at: .cache\n",
      "Couldn't write token to cache at: .cache\n",
      "Couldn't read cache at: .cache\n",
      "Couldn't write token to cache at: .cache\n",
      "Couldn't read cache at: .cache\n",
      "Couldn't write token to cache at: .cache\n",
      "Couldn't read cache at: .cache\n",
      "Couldn't write token to cache at: .cache\n",
      "Couldn't read cache at: .cache\n",
      "Couldn't write token to cache at: .cache\n",
      "Couldn't read cache at: .cache\n",
      "Couldn't write token to cache at: .cache\n",
      "Couldn't read cache at: .cache\n",
      "Couldn't write token to cache at: .cache\n",
      "Couldn't read cache at: .cache\n",
      "Couldn't write token to cache at: .cache\n",
      "Couldn't read cache at: .cache\n",
      "Couldn't write token to cache at: .cache\n",
      "Couldn't read cache at: .cache\n",
      "Couldn't write token to cache at: .cache\n",
      "Couldn't read cache at: .cache\n",
      "Couldn't write token to cache at: .cache\n",
      "Couldn't read cache at: .cache\n",
      "Couldn't write token to cache at: .cache\n",
      "Couldn't read cache at: .cache\n",
      "Couldn't write token to cache at: .cache\n",
      "Couldn't read cache at: .cache\n",
      "Couldn't write token to cache at: .cache\n",
      "Couldn't read cache at: .cache\n",
      "Couldn't write token to cache at: .cache\n",
      "Couldn't read cache at: .cache\n",
      "Couldn't write token to cache at: .cache\n",
      "Couldn't read cache at: .cache\n",
      "Couldn't write token to cache at: .cache\n",
      "Couldn't read cache at: .cache\n",
      "Couldn't write token to cache at: .cache\n",
      "Couldn't read cache at: .cache\n",
      "Couldn't write token to cache at: .cache\n",
      "Couldn't read cache at: .cache\n",
      "Couldn't write token to cache at: .cache\n",
      "Couldn't read cache at: .cache\n",
      "Couldn't write token to cache at: .cache\n",
      "Couldn't read cache at: .cache\n",
      "Couldn't write token to cache at: .cache\n",
      "Couldn't read cache at: .cache\n",
      "Couldn't write token to cache at: .cache\n",
      "Couldn't read cache at: .cache\n",
      "Couldn't write token to cache at: .cache\n",
      "Couldn't read cache at: .cache\n",
      "Couldn't write token to cache at: .cache\n",
      "Couldn't read cache at: .cache\n",
      "Couldn't write token to cache at: .cache\n",
      "Couldn't read cache at: .cache\n",
      "Couldn't write token to cache at: .cache\n",
      "Couldn't read cache at: .cache\n",
      "Couldn't write token to cache at: .cache\n",
      "Couldn't read cache at: .cache\n",
      "Couldn't write token to cache at: .cache\n",
      "Couldn't read cache at: .cache\n",
      "Couldn't write token to cache at: .cache\n",
      "Couldn't read cache at: .cache\n",
      "Couldn't write token to cache at: .cache\n",
      "Couldn't read cache at: .cache\n",
      "Couldn't write token to cache at: .cache\n",
      "Couldn't read cache at: .cache\n",
      "Couldn't write token to cache at: .cache\n",
      "Couldn't read cache at: .cache\n",
      "Couldn't write token to cache at: .cache\n",
      "Couldn't read cache at: .cache\n",
      "Couldn't write token to cache at: .cache\n",
      "Couldn't read cache at: .cache\n",
      "Couldn't write token to cache at: .cache\n",
      "Couldn't read cache at: .cache\n",
      "Couldn't write token to cache at: .cache\n",
      "Couldn't read cache at: .cache\n",
      "Couldn't write token to cache at: .cache\n",
      "Couldn't read cache at: .cache\n",
      "Couldn't write token to cache at: .cache\n",
      "Couldn't read cache at: .cache\n",
      "Couldn't write token to cache at: .cache\n",
      "Couldn't read cache at: .cache\n",
      "Couldn't write token to cache at: .cache\n",
      "Couldn't read cache at: .cache\n",
      "Couldn't write token to cache at: .cache\n",
      "Couldn't read cache at: .cache\n",
      "Couldn't write token to cache at: .cache\n",
      "Couldn't read cache at: .cache\n",
      "Couldn't write token to cache at: .cache\n",
      "Couldn't read cache at: .cache\n",
      "Couldn't write token to cache at: .cache\n",
      "Couldn't read cache at: .cache\n",
      "Couldn't write token to cache at: .cache\n",
      "Couldn't read cache at: .cache\n",
      "Couldn't write token to cache at: .cache\n",
      "Couldn't read cache at: .cache\n",
      "Couldn't write token to cache at: .cache\n",
      "Couldn't read cache at: .cache\n",
      "Couldn't write token to cache at: .cache\n",
      "Couldn't read cache at: .cache\n",
      "Couldn't write token to cache at: .cache\n",
      "Couldn't read cache at: .cache\n",
      "Couldn't write token to cache at: .cache\n",
      "Couldn't read cache at: .cache\n",
      "Couldn't write token to cache at: .cache\n",
      "Couldn't read cache at: .cache\n",
      "Couldn't write token to cache at: .cache\n"
     ]
    },
    {
     "name": "stdout",
     "output_type": "stream",
     "text": [
      "All track data saved to 'full_audio_features_and_track_info_all_keywords.csv'\n"
     ]
    }
   ],
   "source": [
    "# 검색할 키워드 리스트\n",
    "search_keywords = ['멜론차트', '노동요', '분위기 팝송', '드라이브', '산책', '신나는', '운동']\n",
    "all_track_data = []  # 모든 키워드의 트랙 데이터를 저장할 리스트\n",
    "\n",
    "for keyword in search_keywords:\n",
    "    playlists = search_playlists(keyword, limit=3)\n",
    "    track_list = []\n",
    "    \n",
    "    for playlist in playlists:\n",
    "        playlist_id = playlist['id']\n",
    "        tracks = get_playlist_tracks(playlist_id)\n",
    "        \n",
    "        # 모든 트랙 ID 수집\n",
    "        track_ids = [track['track']['id'] for track in tracks]\n",
    "        \n",
    "        # 한 번에 모든 오디오 특성을 수집\n",
    "        audio_features = get_all_audio_features(track_ids)\n",
    "        \n",
    "        # 트랙 정보와 오디오 특성을 결합\n",
    "        track_data = collect_full_track_data(tracks, audio_features)\n",
    "        \n",
    "        # 각 키워드에 해당하는 트랙 데이터를 추가\n",
    "        track_list.extend(track_data)\n",
    "    \n",
    "    # 각 키워드에 대한 트랙 데이터를 전체 리스트에 추가\n",
    "    all_track_data.extend(track_list)\n",
    "\n",
    "# 모든 데이터를 하나의 CSV 파일로 저장\n",
    "save_to_csv(all_track_data, 'playlist_info_all_keywords.csv')\n",
    "print(\"All track data saved to 'playlist_info_all_keywords.csv'\")"
   ]
  }
 ],
 "metadata": {
  "kernelspec": {
   "display_name": "Python 3 (ipykernel)",
   "language": "python",
   "name": "python3"
  },
  "language_info": {
   "codemirror_mode": {
    "name": "ipython",
    "version": 3
   },
   "file_extension": ".py",
   "mimetype": "text/x-python",
   "name": "python",
   "nbconvert_exporter": "python",
   "pygments_lexer": "ipython3",
   "version": "3.12.3"
  }
 },
 "nbformat": 4,
 "nbformat_minor": 5
}
